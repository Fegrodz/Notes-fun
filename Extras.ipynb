{
 "cells": [
  {
   "cell_type": "markdown",
   "metadata": {},
   "source": [
    "### El criterio de congruencia AAL (ángulo-ángulo-lado) es equivalente al criterio ALA"
   ]
  },
  {
   "cell_type": "markdown",
   "metadata": {},
   "source": [
    "Supongamos que los $\\bigtriangleup ABC$ y $\\bigtriangleup A'B'C'$ son tales que cumplen:\n",
    "\n",
    "$$\n",
    "\\alpha = \\alpha', \\beta = \\beta', BC=B'C'\n",
    "$$"
   ]
  },
  {
   "cell_type": "markdown",
   "metadata": {},
   "source": [
    "Y sabemos por una equivalencia del quinto postulado, que la suma interna de los ángulos de un triángulo suman dos rectos; es decir, se cumple que, si los ángulos del $\\bigtriangleup ABC$ son $\\alpha, \\beta, \\gamma$, y los ángulos de $\\bigtriangleup A'B'C'$ son $\\alpha', \\beta', \\gamma'$, entonces:\n",
    "\n",
    "$$\n",
    "\\alpha + \\beta +\\gamma = \\alpha' + \\beta' +\\gamma' = 180°,\n",
    "$$\n",
    "\n",
    "y como por hipótesis $\\alpha = \\alpha'$ y $\\beta = \\beta'$ entonces\n",
    "$$\n",
    "\\gamma = \\gamma',\n",
    "$$"
   ]
  },
  {
   "cell_type": "markdown",
   "metadata": {},
   "source": [
    "Por tanto, tenemos que para los $\\bigtriangleup ABC$ y $\\bigtriangleup A'B'C'$ también se cumple que:\n",
    "\n",
    "$$\n",
    "\\beta = \\beta', BC=B'C', \\gamma = \\gamma',\n",
    "$$\n",
    "por lo cual estos triángulos cumplen el criterio de congruencia $ALA$ y por tanto son congruentes."
   ]
  },
  {
   "cell_type": "markdown",
   "metadata": {},
   "source": [
    "## Un hecho sobre las bisectríces"
   ]
  },
  {
   "cell_type": "markdown",
   "metadata": {},
   "source": [
    "Si consideramos un triángulo $\\bigtriangleup ABC$ y la bisectriz en $B$, sabemos por algo ya demostrado en clase que si tomamos un punto $P$ sobre la bisectriz, entonces $P$ equidista de los lados del ángulo.\n",
    "\n",
    "Pero ahora vamos a demostrar el recíproco, es decir que si $P$ es un punto dentro de un ángulo de un triángulo tal que equidista de los lados que lo determinan, entonces $P$ está en la bisectríz de dicho ángulo."
   ]
  },
  {
   "cell_type": "markdown",
   "metadata": {},
   "source": [
    "En el ejemplo de la imagen, sean $D$ y $E$ los pies de las perpendiculares trazadas desde $P$ a los lados $AB$ y $BC$ del triángulo respectivamente. Por hipótesis sabemos que $PD$ = $PE$.\n",
    "\n",
    "Consideremos además el segmento $BP$ para formar los triángulos $\\bigtriangleup PBE$ y $\\bigtriangleup PDB$.\n",
    "\n",
    "Entonces $\\bigtriangleup PBE \\cong \\bigtriangleup PDB$ por LLL, ya que ámbos triángulos comparten el lado común $BP$; también $PD$ = $PE$ por hipótesis; por último, dado el hecho de que los ángulos $\\angle PDB = \\angle PEB$ son rectos por construcción, entonces ambos triángulos son rectángulos y por el teorema de Pitágoras, el lado restante tiene que ser igual.\n",
    "\n",
    "Veamos la justificación de esta última afirmación: "
   ]
  },
  {
   "cell_type": "markdown",
   "metadata": {},
   "source": [
    "$ PB^2 = PE^2 + BE^2 $ y también $ PB^2 = PD^2 + BD^2 $ por el teorema de Pitágoras $\\Rightarrow $\n",
    "\n",
    "$$\n",
    "PE^2 + BE^2 = PD^2 + BD^2, \\quad \\text{y por hipótesis } PE = PD \\quad \\Rightarrow\n",
    "$$\n",
    "\n",
    "$$\n",
    "BE^2 = BD^2 \\quad \\Rightarrow \\quad BE = BD\n",
    "$$\n"
   ]
  },
  {
   "cell_type": "markdown",
   "metadata": {},
   "source": [
    "Por tanto los ángulos correspondientes de los triángulos congruentes son iguales y en particular $\\angle PBD = \\angle EBP$ lo que indica por definición que $P$ está en la bisectriz de $B$"
   ]
  },
  {
   "cell_type": "markdown",
   "metadata": {},
   "source": [
    "## Un teorema sobre triángulos rectángulos y una mediana"
   ]
  },
  {
   "cell_type": "markdown",
   "metadata": {},
   "source": [
    "__Teorema:__ En todo triángulo rectángulo la mediana relativa a la hipotenusa es la mitad de la hipotenusa. "
   ]
  },
  {
   "cell_type": "markdown",
   "metadata": {},
   "source": [
    "__Demostración__: Consideremos un triángulo rectángulo $\\bigtriangleup ABC$ y sea $BM$ la mediana con vértice en $B$ y punto medio $M$ sobre la hipotenusa.\n",
    "\n",
    "Consideremos el punto medio $N$ de $AB$, y observemos que al ser tanto $M$ como $N$ puntos medios de los lados del triángulo se cumplen las siguientes razones de proporcionalidad:\n",
    "\n",
    "$$\n",
    "\\frac{AN}{NB} = \\frac{AM}{MC} = 1 \\Rightarrow \\frac{AN}{AM} = \\frac{NB}{MC},\n",
    "$$\n",
    "\n",
    "sin embargo esta última igualdad de razones indica por el Teorema de Tales que $NM$ es paralelo a $BC$, lo que implica que $\\angle BNM$ es recto.\n",
    "\n",
    "Del hecho anterior podemos deducir entonces que $\\bigtriangleup ANM \\cong \\bigtriangleup BMN$ por LAL puesto que $MN$ es un lado común a ambos, también $\\angle MNA = \\angle BNM$ ya que son angulos rectos como ya se demostró, y $AN = NB$ por ser $N$ punto medio del lado $AB$. Entonces los lados correspondientes de los triángulos son iguales, en particular $AM = MB$. También podemos observar que como $AM = MC$ entonces también $MC = MB$.\n",
    "\n",
    "Por tanto, queda demostrado que la mediana $BM$ mide lo mismo que la mitad de la hipotenusa.\n",
    "\n",
    "Un hecho importante a notar que se desprende directamente de esta demostración, es el hecho de que la mediana $BM$ crea dos triángulo isóceles: $\\bigtriangleup BMC$ y $\\bigtriangleup AMB$."
   ]
  },
  {
   "cell_type": "markdown",
   "metadata": {},
   "source": [
    "## RESPUESTAS DE LA TAREA 1"
   ]
  },
  {
   "cell_type": "markdown",
   "metadata": {},
   "source": [
    "14. Demuestre que las bisectrices de los ángulos internos de un triángulo concurren en un punto. A dicho punto se le llama _incentro_, pues con él como centro se puede construir un círculo circunscrito al triángulo, al que se le conoce como _incuncírculo_.\n",
    "\n",
    "_Demostración:_ Sea el $\\bigtriangleup ABC$ y $AP$ y $BQ$ las bisectrices de $\\angle A$ y $\\angle B$, respectivamente. Sean $P$ y $Q$ los pies de las bisectrices por $\\angle A$ y $\\angle B$, respectivamente. Las rectas $AP$ y $BQ$ se cortan en un punto $I$ ya que no son paralelas (V postulado). Sea $I$ el punto de intersección de estas dos rectas. Se trazan perpendiculares a los lados del triángulo desde $I$. Sean $X', X''$ y $X'''$ los pies de estas perpendiculares en $BC, CA$ y $AB$ respectivamente.\n",
    "\n",
    "El punto $I$ está en la bisectriz del $\\angle B \\Rightarrow IX' = IX'''$ por un teorema visto en clase que dice que un punto en la bisectriz equidista de los lados del ángulo; como también está en la bisectriz del $\\angle A \\Rightarrow IX'' = IX'''$ por el mismo teorema.\n",
    "\n",
    "Por tanto, $IX' = IX'' \\Rightarrow I$ está en la bisectriz del $\\angle C$, por el lema demostrado en el video que dice que un punto que equidista de los lados de un ángulo está en la bisectriz del ángulo, por lo que las tres bisectrices son concurrentes.\n",
    "\n",
    "Ya que la distancia de $I$ a los tres lados del triángulo es la misma, la circunferencia con centro en $I$ y con radio igual a esta distancia, pasa por los tres puntos $X', X'' y X'''$ y no corta a los lados del $\\angle ABC$ en ningún otro punto. Se dice entonces que la circunferencia es tangente a los lados del triángulo. A esta circunferencia se le llama el incírculo del triángulo.\n",
    "\n",
    "![title](7.png)"
   ]
  },
  {
   "cell_type": "markdown",
   "metadata": {},
   "source": [
    "20. Sea $ABC$ un triángulo tal que el ángulo en $B$ sea recto. Sea $L$ el punto medio del lado $AC$, sea $X$ el punto en el que la bisectriz del ángulo recto $B$ corta a $AC$ y sea $D$ el punto en el que la altura desde $B$ corta a $AC$. Demuestre que el ángulo DBX es igual al ángulo XBL. \n",
    "\n",
    "![title](1.png)\n",
    "\n",
    "_Demostración:_ Por el lema del video sobre el teorema de Pitágoras, sabemos que $\\bigtriangleup ABC \\approx \\bigtriangleup CDB \\approx \\bigtriangleup ADB$, por lo que \n",
    "$$\n",
    "\\angle BAD = \\angle CBD ... (1)\n",
    "$$\n",
    "\n",
    "Ahora bien, uno de los ángulos que nos interesan es el $\\angle DBX$ que lo podemos calcular como resta de dos ángulos (por construcción), de la siguiente forma:\n",
    "$$\n",
    "\\angle DBX = \\angle CBX - \\angle CBD.\n",
    "$$\n",
    "\n",
    "Pero al ser $BX$ bisectriz, sabemos que $\\angle CBX = \\angle XBA = 45°$, por lo que\n",
    "\n",
    "$$\n",
    " \\angle DBX = 45° - \\angle CBD... (2)\n",
    "$$\n",
    "\n",
    "Por un teorema que les compartimos como hint, sabemos que la mediana relativa a la hipotenusa, es decir la recta $BL$, es la mitad de la hipotenusa, es decir $2BL = AC$; por otro lado como $L$ es punto medio de $AC$ entonces $AL=LC$, por lo que $2BL = AC = AL + LC = AL + AL = 2AL \\Rightarrow BL = AL$. De manera análoga tenemos que $BL = LC$, lo que implica que $\\bigtriangleup BLA$ y $\\bigtriangleup CLB$ son triángulos isóceles ya que ambos tienen dos lados iguales.\n",
    "\n",
    "Vimos también que un triángulo que tiene dos lados iguales tiene dos ángulos iguales, por lo que justo en este caso particular aplicado al triángulo $\\bigtriangleup BLA$ tenemos que $\\angle LBA = \\angle BAL$. Pero $\\angle BAL = \\angle BAD$ puesto que $L$ y $D$ son colineales, por lo que\n",
    "$$\n",
    "\\angle LBA = \\angle BAD ... (3)\n",
    "$$\n",
    "\n",
    "Ahora observemos que el otro ángulo que nos interesa lo podemos escribir de manera similar al otro, es decir por construcción se puede ver que\n",
    "$$\n",
    "\\angle XBL = \\angle XBA - \\angle LBA ... (4)\n",
    "$$\n",
    "\n",
    "Sustiyendo (3) en (4), tenemos\n",
    "\n",
    "$$\n",
    "\\angle XBL = \\angle XBA - \\angle BAD ... (5)\n",
    "$$\n",
    "\n",
    "Sustituyendo ahora (1) en (5) y usando el hecho de que $\\angle XBA = 45°$ obtenemos\n",
    "\n",
    "$$\n",
    "\\angle XBL = 45° - \\angle CBD ... (6)\n",
    "$$\n",
    "\n",
    "Así, los lados derechos de las ecuaciones (2) y (6) son iguales por lo que concluimos que\n",
    "\n",
    "$$\n",
    "\\angle DBX = \\angle XBL\n",
    "$$"
   ]
  },
  {
   "cell_type": "code",
   "execution_count": null,
   "metadata": {},
   "outputs": [],
   "source": []
  }
 ],
 "metadata": {
  "kernelspec": {
   "display_name": "Python 3",
   "language": "python",
   "name": "python3"
  },
  "language_info": {
   "codemirror_mode": {
    "name": "ipython",
    "version": 3
   },
   "file_extension": ".py",
   "mimetype": "text/x-python",
   "name": "python",
   "nbconvert_exporter": "python",
   "pygments_lexer": "ipython3",
   "version": "3.7.7"
  }
 },
 "nbformat": 4,
 "nbformat_minor": 4
}
